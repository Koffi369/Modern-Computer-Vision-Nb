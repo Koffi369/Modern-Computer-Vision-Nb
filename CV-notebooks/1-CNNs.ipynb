{
 "cells": [
  {
   "cell_type": "markdown",
   "id": "8fe74742-b667-4fd5-b014-f21645571b73",
   "metadata": {},
   "source": [
    "## Building CNN from scratch"
   ]
  },
  {
   "cell_type": "markdown",
   "id": "633d0c1a-9aca-46f6-81a3-d7e944040b87",
   "metadata": {},
   "source": [
    "### 1 - Importing Libraries"
   ]
  },
  {
   "cell_type": "code",
   "execution_count": 1,
   "id": "c3c9642f-fd4d-4412-ad5a-ac1a99ebaad9",
   "metadata": {},
   "outputs": [],
   "source": [
    "import torch\n",
    "import torchvision\n",
    "import torchvision.transforms as transforms\n",
    "import torch.optim as optim\n",
    "import torch.nn as nn"
   ]
  },
  {
   "cell_type": "code",
   "execution_count": 2,
   "id": "e0a911bb-0238-410d-bb3c-eced40eb5e56",
   "metadata": {},
   "outputs": [
    {
     "data": {
      "text/plain": [
       "True"
      ]
     },
     "execution_count": 2,
     "metadata": {},
     "output_type": "execute_result"
    }
   ],
   "source": [
    "torch.cuda.is_available()"
   ]
  },
  {
   "cell_type": "code",
   "execution_count": 3,
   "id": "e84aafa6-36e5-4ccb-b60a-bbf3559a1cea",
   "metadata": {},
   "outputs": [],
   "source": [
    "if torch.cuda.is_available():\n",
    "  device = 'cuda' \n",
    "else:\n",
    "  device = 'cpu' "
   ]
  },
  {
   "cell_type": "code",
   "execution_count": 4,
   "id": "bd9fb083-b253-498b-8285-05618ab8c1ba",
   "metadata": {},
   "outputs": [],
   "source": [
    "my_transformation = transforms.Compose([\n",
    "    transforms.ToTensor(),\n",
    "    transforms.Normalize((0.5,), (0.5,))])\n",
    "   "
   ]
  },
  {
   "cell_type": "code",
   "execution_count": null,
   "id": "98d7a601-a955-4080-b3cb-054e3435bec0",
   "metadata": {
    "scrolled": true
   },
   "outputs": [
    {
     "name": "stderr",
     "output_type": "stream",
     "text": [
      " 20%|███████▋                              | 2.00M/9.91M [01:40<03:42, 35.5kB/s]"
     ]
    }
   ],
   "source": [
    "trainset = torchvision.datasets.MNIST(\n",
    "    '../../Datasets/mnist',\n",
    "    train = True,\n",
    "    download = True,\n",
    "    transform= my_transformation \n",
    ")\n",
    "\n"
   ]
  },
  {
   "cell_type": "code",
   "execution_count": null,
   "id": "fa102a33-cdba-4441-a7b6-5aea017d390b",
   "metadata": {},
   "outputs": [],
   "source": [
    "testset = torchvision.datasets.MNIST(\n",
    "    '../../Datasets/mnist',\n",
    "    train = False,\n",
    "    download = True,\n",
    "    transform= my_transformation \n",
    ")"
   ]
  },
  {
   "cell_type": "code",
   "execution_count": null,
   "id": "21f1af78-1848-4b4a-a126-cfa919004c82",
   "metadata": {},
   "outputs": [],
   "source": []
  }
 ],
 "metadata": {
  "kernelspec": {
   "display_name": "Python 3 (ipykernel)",
   "language": "python",
   "name": "python3"
  },
  "language_info": {
   "codemirror_mode": {
    "name": "ipython",
    "version": 3
   },
   "file_extension": ".py",
   "mimetype": "text/x-python",
   "name": "python",
   "nbconvert_exporter": "python",
   "pygments_lexer": "ipython3",
   "version": "3.12.2"
  }
 },
 "nbformat": 4,
 "nbformat_minor": 5
}
