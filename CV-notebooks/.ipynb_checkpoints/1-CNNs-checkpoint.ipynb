{
 "cells": [
  {
   "cell_type": "markdown",
   "id": "8fe74742-b667-4fd5-b014-f21645571b73",
   "metadata": {},
   "source": [
    "## Building CNN from scratch"
   ]
  },
  {
   "cell_type": "markdown",
   "id": "633d0c1a-9aca-46f6-81a3-d7e944040b87",
   "metadata": {},
   "source": [
    "### 1 - Importing Libraries"
   ]
  },
  {
   "cell_type": "code",
   "execution_count": 2,
   "id": "c3c9642f-fd4d-4412-ad5a-ac1a99ebaad9",
   "metadata": {},
   "outputs": [],
   "source": [
    "import torch\n",
    "import torchvision\n",
    "import torch.optim as optim\n",
    "import torch.nn as nn"
   ]
  },
  {
   "cell_type": "code",
   "execution_count": 3,
   "id": "e0a911bb-0238-410d-bb3c-eced40eb5e56",
   "metadata": {},
   "outputs": [
    {
     "data": {
      "text/plain": [
       "True"
      ]
     },
     "execution_count": 3,
     "metadata": {},
     "output_type": "execute_result"
    }
   ],
   "source": [
    "torch.cuda.is_available()"
   ]
  },
  {
   "cell_type": "code",
   "execution_count": 5,
   "id": "e84aafa6-36e5-4ccb-b60a-bbf3559a1cea",
   "metadata": {},
   "outputs": [],
   "source": [
    "if torch.cuda.is_available():\n",
    "  device = 'cuda' \n",
    "else:\n",
    "  device = 'cpu' "
   ]
  },
  {
   "cell_type": "code",
   "execution_count": null,
   "id": "bd9fb083-b253-498b-8285-05618ab8c1ba",
   "metadata": {},
   "outputs": [],
   "source": []
  },
  {
   "cell_type": "code",
   "execution_count": null,
   "id": "98d7a601-a955-4080-b3cb-054e3435bec0",
   "metadata": {},
   "outputs": [],
   "source": []
  },
  {
   "cell_type": "code",
   "execution_count": null,
   "id": "fa102a33-cdba-4441-a7b6-5aea017d390b",
   "metadata": {},
   "outputs": [],
   "source": []
  },
  {
   "cell_type": "code",
   "execution_count": null,
   "id": "21f1af78-1848-4b4a-a126-cfa919004c82",
   "metadata": {},
   "outputs": [],
   "source": []
  }
 ],
 "metadata": {
  "kernelspec": {
   "display_name": "Python 3 (ipykernel)",
   "language": "python",
   "name": "python3"
  },
  "language_info": {
   "codemirror_mode": {
    "name": "ipython",
    "version": 3
   },
   "file_extension": ".py",
   "mimetype": "text/x-python",
   "name": "python",
   "nbconvert_exporter": "python",
   "pygments_lexer": "ipython3",
   "version": "3.12.2"
  }
 },
 "nbformat": 4,
 "nbformat_minor": 5
}
